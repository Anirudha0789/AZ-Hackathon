{
 "cells": [
  {
   "cell_type": "code",
   "execution_count": 1,
   "metadata": {},
   "outputs": [],
   "source": [
    "# import required module\n",
    "from sklearn.feature_extraction.text import TfidfVectorizer\n",
    "import pandas as pd\n",
    "\n",
    "# merge documents into single corpus\n",
    "corpus = []\n",
    "count = 0\n",
    "while(count < 1944):\n",
    "  count+=1\n",
    "  fo1 = open('Keywords/keyword-'+str(count)+'.txt', encoding='utf-8')\n",
    "  docs = fo1.read()\n",
    "  corpus.append(docs)\n",
    "\n",
    "vectorizer = TfidfVectorizer()\n",
    "vectors = vectorizer.fit_transform(corpus)\n",
    "feature_names = vectorizer.get_feature_names_out()\n",
    "dense = vectors.todense()\n",
    "denselist = dense.tolist()\n",
    "df = pd.DataFrame(denselist, columns=feature_names)\n",
    "\n",
    "# # display tf-idf values\n",
    "# fo3 = open('tf-idf.txt', 'a+', encoding='utf-8')\n",
    "# # fo3.write('tf-idf value:\\n')\n",
    "# fo3.write('\\n'+str(df))"
   ]
  },
  {
   "cell_type": "code",
   "execution_count": 15,
   "metadata": {},
   "outputs": [],
   "source": [
    "df_t = df.transpose()"
   ]
  },
  {
   "cell_type": "code",
   "execution_count": null,
   "metadata": {},
   "outputs": [],
   "source": [
    "df.head(1000)"
   ]
  },
  {
   "cell_type": "code",
   "execution_count": null,
   "metadata": {},
   "outputs": [],
   "source": [
    "df_t.head(11094)"
   ]
  },
  {
   "cell_type": "code",
   "execution_count": 27,
   "metadata": {},
   "outputs": [
    {
     "data": {
      "text/plain": [
       "1718"
      ]
     },
     "execution_count": 27,
     "metadata": {},
     "output_type": "execute_result"
    }
   ],
   "source": [
    "# import required module\n",
    "from sklearn.feature_extraction.text import TfidfVectorizer\n",
    "\n",
    "# merge documents into single corpus\n",
    "corpus = []\n",
    "count = 0\n",
    "while(count < 1944):\n",
    "  count+=1\n",
    "  fo1 = open('Keywords/keyword-'+str(count)+'.txt', encoding='utf-8')\n",
    "  docs = fo1.read()\n",
    "  corpus.append(docs)\n",
    "  \n",
    "# create object\n",
    "tfidf = TfidfVectorizer()\n",
    "  \n",
    "# get tf-df values\n",
    "result = tfidf.fit_transform(corpus)\n",
    "  \n",
    "# get idf values\n",
    "# fo1 = open('idf.txt', 'w+', encoding='utf-8')\n",
    "# for ele1, ele2 in zip(tfidf.get_feature_names_out(), tfidf.idf_):\n",
    "#     words = (ele1, ':', ele2)\n",
    "#     fo1.write(str(words)+'\\n')\n",
    "    \n",
    "  \n",
    "\n",
    "# get indexing\n",
    "# fo2 = open('word_indexes.txt', 'w+', encoding='utf-8')\n",
    "# # fo2.write('Word indexes:\\n')\n",
    "# fo2.write(str(tfidf.vocabulary_))\n",
    "  \n",
    "# display tf-idf values\n",
    "fo3 = open('tf-idf.txt', 'w+', encoding='utf-8')\n",
    "# fo3.write('tf-idf value:\\n')\n",
    "fo3.write('\\n'+str(result))\n",
    "  \n",
    "# # in matrix form\n",
    "# fo4 = open('tf-idf-matrix.txt', 'a', encoding='utf-8')\n",
    "# fo4.write('\\ntf-idf values in matrix form:')\n",
    "# fo4.write((str(result.toarray())))\n"
   ]
  }
 ],
 "metadata": {
  "interpreter": {
   "hash": "369f2c481f4da34e4445cda3fffd2e751bd1c4d706f27375911949ba6bb62e1c"
  },
  "kernelspec": {
   "display_name": "Python 3.10.4 64-bit",
   "language": "python",
   "name": "python3"
  },
  "language_info": {
   "codemirror_mode": {
    "name": "ipython",
    "version": 3
   },
   "file_extension": ".py",
   "mimetype": "text/x-python",
   "name": "python",
   "nbconvert_exporter": "python",
   "pygments_lexer": "ipython3",
   "version": "3.10.4"
  },
  "orig_nbformat": 4
 },
 "nbformat": 4,
 "nbformat_minor": 2
}
